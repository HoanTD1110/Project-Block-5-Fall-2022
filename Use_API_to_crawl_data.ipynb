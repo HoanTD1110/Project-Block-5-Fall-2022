{
  "nbformat": 4,
  "nbformat_minor": 0,
  "metadata": {
    "colab": {
      "provenance": [],
      "collapsed_sections": [
        "892nFOqpNb_f"
      ]
    },
    "kernelspec": {
      "name": "python3",
      "display_name": "Python 3"
    },
    "language_info": {
      "name": "python"
    }
  },
  "cells": [
    {
      "cell_type": "markdown",
      "source": [
        "#Ussing API to crawl data\n"
      ],
      "metadata": {
        "id": "lR8dyq8-M2zP"
      }
    },
    {
      "cell_type": "code",
      "source": [
        "!pip install spotipy"
      ],
      "metadata": {
        "id": "GZ3G0nN_BCXG",
        "colab": {
          "base_uri": "https://localhost:8080/"
        },
        "outputId": "26fa4fbe-7597-4509-8f64-4fef16dd7026"
      },
      "execution_count": null,
      "outputs": [
        {
          "output_type": "stream",
          "name": "stdout",
          "text": [
            "Looking in indexes: https://pypi.org/simple, https://us-python.pkg.dev/colab-wheels/public/simple/\n",
            "Collecting spotipy\n",
            "  Downloading spotipy-2.23.0-py3-none-any.whl (29 kB)\n",
            "Collecting redis>=3.5.3 (from spotipy)\n",
            "  Downloading redis-4.5.5-py3-none-any.whl (240 kB)\n",
            "\u001b[2K     \u001b[90m━━━━━━━━━━━━━━━━━━━━━━━━━━━━━━━━━━━━━━━\u001b[0m \u001b[32m240.3/240.3 kB\u001b[0m \u001b[31m7.4 MB/s\u001b[0m eta \u001b[36m0:00:00\u001b[0m\n",
            "\u001b[?25hRequirement already satisfied: requests>=2.25.0 in /usr/local/lib/python3.10/dist-packages (from spotipy) (2.27.1)\n",
            "Requirement already satisfied: six>=1.15.0 in /usr/local/lib/python3.10/dist-packages (from spotipy) (1.16.0)\n",
            "Requirement already satisfied: urllib3>=1.26.0 in /usr/local/lib/python3.10/dist-packages (from spotipy) (1.26.15)\n",
            "Collecting async-timeout>=4.0.2 (from redis>=3.5.3->spotipy)\n",
            "  Downloading async_timeout-4.0.2-py3-none-any.whl (5.8 kB)\n",
            "Requirement already satisfied: certifi>=2017.4.17 in /usr/local/lib/python3.10/dist-packages (from requests>=2.25.0->spotipy) (2022.12.7)\n",
            "Requirement already satisfied: charset-normalizer~=2.0.0 in /usr/local/lib/python3.10/dist-packages (from requests>=2.25.0->spotipy) (2.0.12)\n",
            "Requirement already satisfied: idna<4,>=2.5 in /usr/local/lib/python3.10/dist-packages (from requests>=2.25.0->spotipy) (3.4)\n",
            "Installing collected packages: async-timeout, redis, spotipy\n",
            "Successfully installed async-timeout-4.0.2 redis-4.5.5 spotipy-2.23.0\n"
          ]
        }
      ]
    },
    {
      "cell_type": "code",
      "execution_count": null,
      "metadata": {
        "id": "UqMewezJACiz"
      },
      "outputs": [],
      "source": [
        "#import thư viện\n",
        "import spotipy\n",
        "from spotipy.oauth2 import SpotifyClientCredentials"
      ]
    },
    {
      "cell_type": "code",
      "source": [
        "#kết nối với account của spotify\n",
        "client_id = 'e95f40a5dc5d490ebc1406da0a3df8ae'\n",
        "client_secret = '3bd7b53adcc942548c9d02f80f8906ca'\n",
        "client_credentials_manager = SpotifyClientCredentials(client_id=client_id, client_secret=client_secret)\n",
        "sp = spotipy.Spotify(client_credentials_manager=client_credentials_manager)"
      ],
      "metadata": {
        "id": "a0dJQxTfAzjK"
      },
      "execution_count": null,
      "outputs": []
    },
    {
      "cell_type": "code",
      "source": [
        "# tìm kiếm id của một ca sĩ\n",
        "artist_name = 'Alan Walker'\n",
        "results = sp.search(q='artist:' + artist_name, type='artist')\n",
        "artist_id = results['artists']['items'][0]['id']"
      ],
      "metadata": {
        "id": "J4gG69WCVMeu"
      },
      "execution_count": null,
      "outputs": []
    },
    {
      "cell_type": "code",
      "source": [
        "print(\"Artist ID:\", artist_id)"
      ],
      "metadata": {
        "colab": {
          "base_uri": "https://localhost:8080/"
        },
        "id": "0F542sUMXl-w",
        "outputId": "f0054290-6c0d-479f-bdb0-d0ccd39101d6"
      },
      "execution_count": null,
      "outputs": [
        {
          "output_type": "stream",
          "name": "stdout",
          "text": [
            "Artist ID: 7vk5e3vY1uw9plTHJAMwjN\n"
          ]
        }
      ]
    },
    {
      "cell_type": "code",
      "source": [
        "# tìm 20 albums của ca sĩ đó\n",
        "albums = sp.artist_albums(artist_id, album_type='album', limit=20, offset=0)\n",
        "for album in albums['items']:\n",
        "    album_name = album['name']\n",
        "    album_id = album['id']\n",
        "    print(f\"Album Name: {album_name}\")\n",
        "    print(f\"Album ID: {album_id}\")\n",
        "    print(\"---\")"
      ],
      "metadata": {
        "colab": {
          "base_uri": "https://localhost:8080/"
        },
        "id": "M621kZNZXqYu",
        "outputId": "efd53052-579c-43da-fe6b-3a8a833a909b"
      },
      "execution_count": null,
      "outputs": [
        {
          "output_type": "stream",
          "name": "stdout",
          "text": [
            "Album Name: Walkerverse Pt. I & II\n",
            "Album ID: 6kbiBMllsbGVYMAy8YJKs9\n",
            "---\n",
            "Album Name: World Of Walker\n",
            "Album ID: 3KrkQ77DF9OUB0aOzKFYOF\n",
            "---\n",
            "Album Name: Live Fast (Japan Exclusive)\n",
            "Album ID: 1CLDNcfuwhl9KUrervfOQu\n",
            "---\n",
            "Album Name: Different World\n",
            "Album ID: 3nzuGtN3nXARvvecier4K0\n",
            "---\n",
            "Album Name: Different World\n",
            "Album ID: 0F6BBeoVYaOYlPKw6NDgDD\n",
            "---\n"
          ]
        }
      ]
    },
    {
      "cell_type": "code",
      "source": [
        "artist_top_tracks = sp.artist_top_tracks(artist_id, country='US')\n",
        "for i in artist_top_tracks:\n",
        "  print()"
      ],
      "metadata": {
        "colab": {
          "base_uri": "https://localhost:8080/"
        },
        "id": "fh7vG0C4wIWs",
        "outputId": "c308978b-0e82-4750-cc33-12cd9adae95b"
      },
      "execution_count": null,
      "outputs": [
        {
          "output_type": "stream",
          "name": "stdout",
          "text": [
            "\n"
          ]
        }
      ]
    },
    {
      "cell_type": "code",
      "source": [
        "#tìm kiếm theo tên ca sĩ / nghệ sĩ\n",
        "results = spotify.search(q='Hoàng Tôn', limit=5)\n",
        "\n",
        "for idx, track in enumerate(results['tracks']['items']):\n",
        "\n",
        "    print(idx, track['name'])"
      ],
      "metadata": {
        "id": "5oVgUgx2Czv3",
        "colab": {
          "base_uri": "https://localhost:8080/",
          "height": 235
        },
        "outputId": "eac3f32e-aee3-419b-ffc5-21b865003f1d"
      },
      "execution_count": null,
      "outputs": [
        {
          "output_type": "error",
          "ename": "AttributeError",
          "evalue": "ignored",
          "traceback": [
            "\u001b[0;31m---------------------------------------------------------------------------\u001b[0m",
            "\u001b[0;31mAttributeError\u001b[0m                            Traceback (most recent call last)",
            "\u001b[0;32m<ipython-input-9-0377dc278eb2>\u001b[0m in \u001b[0;36m<cell line: 2>\u001b[0;34m()\u001b[0m\n\u001b[1;32m      1\u001b[0m \u001b[0;31m#tìm kiếm theo tên ca sĩ / nghệ sĩ\u001b[0m\u001b[0;34m\u001b[0m\u001b[0;34m\u001b[0m\u001b[0m\n\u001b[0;32m----> 2\u001b[0;31m \u001b[0mresults\u001b[0m \u001b[0;34m=\u001b[0m \u001b[0mspotipy\u001b[0m\u001b[0;34m.\u001b[0m\u001b[0msearch\u001b[0m\u001b[0;34m(\u001b[0m\u001b[0mq\u001b[0m\u001b[0;34m=\u001b[0m\u001b[0;34m'Hoàng Tôn'\u001b[0m\u001b[0;34m,\u001b[0m \u001b[0mlimit\u001b[0m\u001b[0;34m=\u001b[0m\u001b[0;36m5\u001b[0m\u001b[0;34m)\u001b[0m\u001b[0;34m\u001b[0m\u001b[0;34m\u001b[0m\u001b[0m\n\u001b[0m\u001b[1;32m      3\u001b[0m \u001b[0;34m\u001b[0m\u001b[0m\n\u001b[1;32m      4\u001b[0m \u001b[0;32mfor\u001b[0m \u001b[0midx\u001b[0m\u001b[0;34m,\u001b[0m \u001b[0mtrack\u001b[0m \u001b[0;32min\u001b[0m \u001b[0menumerate\u001b[0m\u001b[0;34m(\u001b[0m\u001b[0mresults\u001b[0m\u001b[0;34m[\u001b[0m\u001b[0;34m'tracks'\u001b[0m\u001b[0;34m]\u001b[0m\u001b[0;34m[\u001b[0m\u001b[0;34m'items'\u001b[0m\u001b[0;34m]\u001b[0m\u001b[0;34m)\u001b[0m\u001b[0;34m:\u001b[0m\u001b[0;34m\u001b[0m\u001b[0;34m\u001b[0m\u001b[0m\n\u001b[1;32m      5\u001b[0m \u001b[0;34m\u001b[0m\u001b[0m\n",
            "\u001b[0;31mAttributeError\u001b[0m: module 'spotipy' has no attribute 'search'"
          ]
        }
      ]
    },
    {
      "cell_type": "code",
      "source": [
        "#tìm theo top 10 bài hát hay nhất của ca sĩ/ nghệ sĩ\n",
        "# trước tiên chúng ta cần tìm thấy id của nghệ sĩ đó\n",
        "results = spotify.search(q='Trang', type='artist')\n",
        "\n",
        "artist = results['artists']['items'][0]\n",
        "\n",
        "id = artist['id']\n",
        "print(id)\n",
        "\n",
        "# sau đó chúng ta lọc theo id\n",
        "top = spotify.artist_top_tracks(id)\n",
        "\n",
        "for idx, track in enumerate(top['tracks']):\n",
        "\n",
        "    print(idx+1, track['name'])"
      ],
      "metadata": {
        "id": "LV7zS_vXDaVU",
        "colab": {
          "base_uri": "https://localhost:8080/"
        },
        "outputId": "5039f821-9380-4724-bd39-15740489bf62"
      },
      "execution_count": null,
      "outputs": [
        {
          "output_type": "stream",
          "name": "stdout",
          "text": [
            "2knyDFP4xw9wZEWA98JX6b\n",
            "1 Ngã Tư Không Đèn\n",
            "2 Đâu Cần Một Bài Ca Tình Yêu\n",
            "3 Câu Trả Lời\n",
            "4 Và Khi Ta Ngả Nghiêng\n",
            "5 Một Ngày Mãi Mãi\n",
            "6 Giữ Cho Em Một Thế Giới\n",
            "7 Bụi Hoa Giấy\n",
            "8 Chắc Anh Đang - Piano\n",
            "9 Thư Cho Anh\n",
            "10 Một Người Nhẹ Nhàng Hơn\n"
          ]
        }
      ]
    },
    {
      "cell_type": "markdown",
      "source": [
        "#Build web crawling\n"
      ],
      "metadata": {
        "id": "892nFOqpNb_f"
      }
    },
    {
      "cell_type": "markdown",
      "source": [
        "**Ussing Beautifulsoup**\n",
        "\n"
      ],
      "metadata": {
        "id": "n6MMKZfbNolF"
      }
    },
    {
      "cell_type": "code",
      "source": [
        "#import thư viện\n",
        "import requests\n",
        "from bs4 import BeautifulSoup as bs"
      ],
      "metadata": {
        "id": "IkFcZpsCNjQR"
      },
      "execution_count": null,
      "outputs": []
    },
    {
      "cell_type": "code",
      "source": [
        "#get url\n",
        "url = ''\n",
        "page = requests.get('https://www.nba.com/standings')\n",
        "print(page)"
      ],
      "metadata": {
        "colab": {
          "base_uri": "https://localhost:8080/"
        },
        "id": "1edZdpynOKF8",
        "outputId": "084c9507-7e94-4613-e99f-3e6eccbc7ffc"
      },
      "execution_count": null,
      "outputs": [
        {
          "output_type": "stream",
          "name": "stdout",
          "text": [
            "<Response [200]>\n"
          ]
        }
      ]
    },
    {
      "cell_type": "code",
      "source": [
        "#dùng BeautifulSoup để format lại html page\n",
        "soup = bs(page.content, \"html.parser\")\n",
        "print(soup)\n",
        "#print(soup.text)"
      ],
      "metadata": {
        "id": "LMIe3Ev5Omxc"
      },
      "execution_count": null,
      "outputs": []
    },
    {
      "cell_type": "code",
      "source": [
        "print(soup.table)"
      ],
      "metadata": {
        "colab": {
          "base_uri": "https://localhost:8080/"
        },
        "id": "zks6PmtNmJap",
        "outputId": "fc5aed41-76da-4008-9488-6fcb53b78ea8"
      },
      "execution_count": null,
      "outputs": [
        {
          "output_type": "stream",
          "name": "stdout",
          "text": [
            "None\n"
          ]
        }
      ]
    },
    {
      "cell_type": "code",
      "source": [
        "# titles = soup.find('article', class_='fck_detail ')\n",
        "# titles.getText()\n",
        "# # for i in titles:\n",
        "# #   print(i.get_text())\n",
        "soup.head.get_text()\n",
        "soup.title.get_text()\n",
        "soup.article.get_text()\n",
        "# Open a new text file for writing\n",
        "with open('output1.txt', 'w', encoding='utf-8') as f:\n",
        "    # Write the extracted text to the file\n",
        "    f.write(soup.article.get_text())"
      ],
      "metadata": {
        "id": "E-4D8KmuiTuq"
      },
      "execution_count": null,
      "outputs": []
    },
    {
      "cell_type": "code",
      "source": [
        "#trích xuất dữ liệu\n",
        "\n",
        "#lấy title của các bài viết\n",
        "titles = [element.get_text() for element in soup.findAll('h3', class_='styles_title_medium__hiL2D styles_title_withDes__cq32x')]\n",
        "descriptions = [element.get_text() for element in soup.findAll('div', class_='styles_description__YkTon styles_description_medium__NN_TM')]\n",
        "# for title in titles:\n",
        "#   print(title)\n",
        "#   print()\n",
        "\n",
        "# print()\n",
        "for description in descriptions:\n",
        "  print(description)\n",
        "  print()\n",
        "\n",
        "# lists = {}\n",
        "# count =0\n",
        "# list =  {\"0\":25}\n",
        "# list[\"hai\"] = 25\n",
        "# list\n",
        "# for i in range(len(titles)):\n",
        "#   lists[titles[i]] = descriptions[i]\n",
        "  # count += 1\n",
        "# lists\n",
        "# links = soup.find_all(\"a\")\n",
        "# for link in links:\n",
        "#     link_url = link[\"href\"]\n",
        "#     print(f\"Apply here: {link_url}\\n\")\n",
        "\n"
      ],
      "metadata": {
        "colab": {
          "base_uri": "https://localhost:8080/"
        },
        "id": "_fhWIjh9PRPl",
        "outputId": "3ccf8452-7d60-4811-9cca-91f5171dc028"
      },
      "execution_count": null,
      "outputs": [
        {
          "output_type": "stream",
          "name": "stdout",
          "text": [
            "Khi nhìn lại cũng là học hỏi, giờ đây bạn là Thoreau bước đi giữa những ký ức thay cho khu rừng.\n",
            "\n",
            "Khi thế giới nín thở dõi theo diễn tiến của cuộc chiến tranh, thì cũng là khi sách phản chiến trở lại.\n",
            "\n",
            "Cli-Fi cũng được coi là thể loại con của Sci-Fi (Khoa học Viễn tưởng), và dần định hình mình trong vài năm trở lại đây.\n",
            "\n",
            "Chúng ta luôn có những nỗi sợ và cố trốn tránh cảm giác này. Và trong văn chương, khi nỗi sợ tìm đến cũng  là một điều kích thích và hấp dẫn. \n",
            "\n",
            "\n",
            "Bạn đã từng có ý muốn trốn chạy khỏi thế giới? Hay đã từng lạc lõng và chẳng biết đi về đâu?\n",
            "\n",
            "Trải qua hàng nghìn năm tiến hóa, đời sống tình dục của con người đã thay đổi và phát triển như thế nào?\n",
            "\n",
            "Đọc những lá thư được viết ra từ ruột gan của người nghệ sĩ giống như nghe lời thủ thỉ chân thành mà thấm thía buồn vui đời người, thời cuộc. \n",
            "\n",
            "Những góc nhìn đầy nhân văn, sâu sắc và thấu hiểu của các tác giả dành cho căn bệnh trầm cảm và vấn đề tâm lý.\n",
            "\n",
            "Nếu bước chậm lại, đánh giá, phân tích vấn đề trên nhiều góc độ, ta có thể bất ngờ trước những gì mình từng một mực tin tưởng.  \n",
            "\n",
            "Thế giới trong những cuốn sách này rộng lớn, đến mức, có thể choán hết những buồn bã và cô đơn trong lòng bạn.\n",
            "\n",
            "Với lối viết hài hước, dí dỏm, sáng tạo, những cuốn sách dưới đây sẽ mang đến cho độc giả không chỉ tiếng cười mà còn cả niềm hy vọng và sự nhân văn.\n",
            "\n",
            "Dịch bệnh đã xuất hiện từ lâu trong đời sống con người. Dù không là một chất liệu đẹp đẽ, nó vẫn được ghi lại thành những tác phẩm văn chương.\n",
            "\n"
          ]
        }
      ]
    },
    {
      "cell_type": "code",
      "source": [
        "lists['Những bức thư làm nên văn chương']"
      ],
      "metadata": {
        "colab": {
          "base_uri": "https://localhost:8080/",
          "height": 36
        },
        "id": "XC-4TjkoHLBa",
        "outputId": "ca1c1784-143d-4748-f577-41041d426381"
      },
      "execution_count": null,
      "outputs": [
        {
          "output_type": "execute_result",
          "data": {
            "text/plain": [
              "'Đọc những lá thư được viết ra từ ruột gan của người nghệ sĩ giống như nghe lời thủ thỉ chân thành mà thấm thía buồn vui đời người, thời cuộc. '"
            ],
            "application/vnd.google.colaboratory.intrinsic+json": {
              "type": "string"
            }
          },
          "metadata": {},
          "execution_count": 235
        }
      ]
    },
    {
      "cell_type": "code",
      "source": [
        "titles"
      ],
      "metadata": {
        "colab": {
          "base_uri": "https://localhost:8080/"
        },
        "id": "iAa9vCMMIQvk",
        "outputId": "638bacab-1ff2-4fbe-a2c5-81921f8af589"
      },
      "execution_count": null,
      "outputs": [
        {
          "output_type": "execute_result",
          "data": {
            "text/plain": [
              "['Ta học được gì từ những cuốn sách du ký?',\n",
              " 'Đọc tiểu thuyết nào để có những góc nhìn mới về chiến tranh?',\n",
              " 'Những tác phẩm Cli-Fi có thể định hình tương lai của con người?',\n",
              " 'Đọc gì Halloween:  Khi nỗi sợ không chỉ đến từ những chi tiết kinh dị',\n",
              " 'Cuộc đời và nỗi cô đơn trong văn học đương đại Hàn Quốc',\n",
              " 'Khi tình dục không gói gọn trong hai chữ \"bản năng\"',\n",
              " 'Những bức thư làm nên văn chương',\n",
              " 'Hiểu thêm về sức khoẻ tâm thần qua những cuốn sách',\n",
              " 'Đọc gì để hiểu về cách bộ não “đánh lừa” chúng ta?',\n",
              " '6 Cuốn sách mỏng đọc trong những chiều giãn cách',\n",
              " 'Khi sự hài hước cũng là hy vọng',\n",
              " 'Dịch bệnh trong văn chương: Ta biết gì về nỗi đau?']"
            ]
          },
          "metadata": {},
          "execution_count": 226
        }
      ]
    },
    {
      "cell_type": "code",
      "source": [
        "for content in soup:\n",
        "  title = soup.findAll('h3', class_='styles_title_medium__hiL2D styles_title_withDes__cq32x')\n",
        "  print(title)"
      ],
      "metadata": {
        "colab": {
          "base_uri": "https://localhost:8080/"
        },
        "id": "8H5H0yohHNbm",
        "outputId": "83494d0f-cd0e-43a6-af6e-b329b58523c1"
      },
      "execution_count": null,
      "outputs": [
        {
          "output_type": "stream",
          "name": "stdout",
          "text": [
            "[<h3 class=\"styles_title_medium__hiL2D styles_title_withDes__cq32x\" style=\"min-height:auto\"><a href=\"/vn/ta-hoc-duoc-gi-tu-nhung-cuon-sach-du-ky\" title=\"Ta học được gì từ những cuốn sách du ký?\">Ta học được gì từ những cuốn sách du ký?</a></h3>, <h3 class=\"styles_title_medium__hiL2D styles_title_withDes__cq32x\" style=\"min-height:auto\"><a href=\"/vn/doc-tieu-thuyet-nao-de-co-nhung-goc-nhin-moi-ve-chien-tranh\" title=\"Đọc tiểu thuyết nào để có những góc nhìn mới về chiến tranh?\">Đọc tiểu thuyết nào để có những góc nhìn mới về chiến tranh?</a></h3>, <h3 class=\"styles_title_medium__hiL2D styles_title_withDes__cq32x\" style=\"min-height:auto\"><a href=\"/vn/nhung-tac-pham-cli-fi-co-the-dinh-hinh-tuong-lai-cua-con-nguoi\" title=\"Những tác phẩm Cli-Fi có thể định hình tương lai của con người?\">Những tác phẩm Cli-Fi có thể định hình tương lai của con người?</a></h3>, <h3 class=\"styles_title_medium__hiL2D styles_title_withDes__cq32x\" style=\"min-height:auto\"><a href=\"/vn/doc-gi-halloween-khi-noi-so-khong-chi-den-tu-nhung-chi-tiet-kinh-di\" title=\"Đọc gì Halloween:  Khi nỗi sợ không chỉ đến từ những chi tiết kinh dị\">Đọc gì Halloween:  Khi nỗi sợ không chỉ đến từ những chi tiết kinh dị</a></h3>, <h3 class=\"styles_title_medium__hiL2D styles_title_withDes__cq32x\" style=\"min-height:auto\"><a href=\"/vn/cuoc-doi-va-noi-co-don-trong-van-hoc-duong-dai-han-quoc\" title=\"Cuộc đời và nỗi cô đơn trong văn học đương đại Hàn Quốc\">Cuộc đời và nỗi cô đơn trong văn học đương đại Hàn Quốc</a></h3>, <h3 class=\"styles_title_medium__hiL2D styles_title_withDes__cq32x\" style=\"min-height:auto\"><a href=\"/vn/khi-tinh-duc-khong-goi-gon-trong-hai-chu-ban-nang\" title='Khi tình dục không gói gọn trong hai chữ \"bản năng\"'>Khi tình dục không gói gọn trong hai chữ \"bản năng\"</a></h3>, <h3 class=\"styles_title_medium__hiL2D styles_title_withDes__cq32x\" style=\"min-height:auto\"><a href=\"/vn/nhung-buc-thu-lam-nen-van-chuong\" title=\"Những bức thư làm nên văn chương\">Những bức thư làm nên văn chương</a></h3>, <h3 class=\"styles_title_medium__hiL2D styles_title_withDes__cq32x\" style=\"min-height:auto\"><a href=\"/vn/hieu-them-ve-suc-khoe-tam-than-qua-nhung-cuon-sach\" title=\"Hiểu thêm về sức khoẻ tâm thần qua những cuốn sách\">Hiểu thêm về sức khoẻ tâm thần qua những cuốn sách</a></h3>, <h3 class=\"styles_title_medium__hiL2D styles_title_withDes__cq32x\" style=\"min-height:auto\"><a href=\"/vn/doc-gi-de-hieu-ve-cach-bo-nao-danh-lua-chung-ta\" title=\"Đọc gì để hiểu về cách bộ não “đánh lừa” chúng ta?\">Đọc gì để hiểu về cách bộ não “đánh lừa” chúng ta?</a></h3>, <h3 class=\"styles_title_medium__hiL2D styles_title_withDes__cq32x\" style=\"min-height:auto\"><a href=\"/vn/6-cuon-sach-mong-doc-trong-nhung-chieu-gian-cach\" title=\"6 Cuốn sách mỏng đọc trong những chiều giãn cách\">6 Cuốn sách mỏng đọc trong những chiều giãn cách</a></h3>, <h3 class=\"styles_title_medium__hiL2D styles_title_withDes__cq32x\" style=\"min-height:auto\"><a href=\"/vn/khi-su-hai-huoc-cung-la-hy-vong\" title=\"Khi sự hài hước cũng là hy vọng\">Khi sự hài hước cũng là hy vọng</a></h3>, <h3 class=\"styles_title_medium__hiL2D styles_title_withDes__cq32x\" style=\"min-height:auto\"><a href=\"/vn/dich-benh-trong-van-chuong-ta-biet-gi-ve-noi-dau\" title=\"Dịch bệnh trong văn chương: Ta biết gì về nỗi đau?\">Dịch bệnh trong văn chương: Ta biết gì về nỗi đau?</a></h3>]\n",
            "[<h3 class=\"styles_title_medium__hiL2D styles_title_withDes__cq32x\" style=\"min-height:auto\"><a href=\"/vn/ta-hoc-duoc-gi-tu-nhung-cuon-sach-du-ky\" title=\"Ta học được gì từ những cuốn sách du ký?\">Ta học được gì từ những cuốn sách du ký?</a></h3>, <h3 class=\"styles_title_medium__hiL2D styles_title_withDes__cq32x\" style=\"min-height:auto\"><a href=\"/vn/doc-tieu-thuyet-nao-de-co-nhung-goc-nhin-moi-ve-chien-tranh\" title=\"Đọc tiểu thuyết nào để có những góc nhìn mới về chiến tranh?\">Đọc tiểu thuyết nào để có những góc nhìn mới về chiến tranh?</a></h3>, <h3 class=\"styles_title_medium__hiL2D styles_title_withDes__cq32x\" style=\"min-height:auto\"><a href=\"/vn/nhung-tac-pham-cli-fi-co-the-dinh-hinh-tuong-lai-cua-con-nguoi\" title=\"Những tác phẩm Cli-Fi có thể định hình tương lai của con người?\">Những tác phẩm Cli-Fi có thể định hình tương lai của con người?</a></h3>, <h3 class=\"styles_title_medium__hiL2D styles_title_withDes__cq32x\" style=\"min-height:auto\"><a href=\"/vn/doc-gi-halloween-khi-noi-so-khong-chi-den-tu-nhung-chi-tiet-kinh-di\" title=\"Đọc gì Halloween:  Khi nỗi sợ không chỉ đến từ những chi tiết kinh dị\">Đọc gì Halloween:  Khi nỗi sợ không chỉ đến từ những chi tiết kinh dị</a></h3>, <h3 class=\"styles_title_medium__hiL2D styles_title_withDes__cq32x\" style=\"min-height:auto\"><a href=\"/vn/cuoc-doi-va-noi-co-don-trong-van-hoc-duong-dai-han-quoc\" title=\"Cuộc đời và nỗi cô đơn trong văn học đương đại Hàn Quốc\">Cuộc đời và nỗi cô đơn trong văn học đương đại Hàn Quốc</a></h3>, <h3 class=\"styles_title_medium__hiL2D styles_title_withDes__cq32x\" style=\"min-height:auto\"><a href=\"/vn/khi-tinh-duc-khong-goi-gon-trong-hai-chu-ban-nang\" title='Khi tình dục không gói gọn trong hai chữ \"bản năng\"'>Khi tình dục không gói gọn trong hai chữ \"bản năng\"</a></h3>, <h3 class=\"styles_title_medium__hiL2D styles_title_withDes__cq32x\" style=\"min-height:auto\"><a href=\"/vn/nhung-buc-thu-lam-nen-van-chuong\" title=\"Những bức thư làm nên văn chương\">Những bức thư làm nên văn chương</a></h3>, <h3 class=\"styles_title_medium__hiL2D styles_title_withDes__cq32x\" style=\"min-height:auto\"><a href=\"/vn/hieu-them-ve-suc-khoe-tam-than-qua-nhung-cuon-sach\" title=\"Hiểu thêm về sức khoẻ tâm thần qua những cuốn sách\">Hiểu thêm về sức khoẻ tâm thần qua những cuốn sách</a></h3>, <h3 class=\"styles_title_medium__hiL2D styles_title_withDes__cq32x\" style=\"min-height:auto\"><a href=\"/vn/doc-gi-de-hieu-ve-cach-bo-nao-danh-lua-chung-ta\" title=\"Đọc gì để hiểu về cách bộ não “đánh lừa” chúng ta?\">Đọc gì để hiểu về cách bộ não “đánh lừa” chúng ta?</a></h3>, <h3 class=\"styles_title_medium__hiL2D styles_title_withDes__cq32x\" style=\"min-height:auto\"><a href=\"/vn/6-cuon-sach-mong-doc-trong-nhung-chieu-gian-cach\" title=\"6 Cuốn sách mỏng đọc trong những chiều giãn cách\">6 Cuốn sách mỏng đọc trong những chiều giãn cách</a></h3>, <h3 class=\"styles_title_medium__hiL2D styles_title_withDes__cq32x\" style=\"min-height:auto\"><a href=\"/vn/khi-su-hai-huoc-cung-la-hy-vong\" title=\"Khi sự hài hước cũng là hy vọng\">Khi sự hài hước cũng là hy vọng</a></h3>, <h3 class=\"styles_title_medium__hiL2D styles_title_withDes__cq32x\" style=\"min-height:auto\"><a href=\"/vn/dich-benh-trong-van-chuong-ta-biet-gi-ve-noi-dau\" title=\"Dịch bệnh trong văn chương: Ta biết gì về nỗi đau?\">Dịch bệnh trong văn chương: Ta biết gì về nỗi đau?</a></h3>]\n"
          ]
        }
      ]
    }
  ]
}